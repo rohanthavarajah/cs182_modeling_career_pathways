{
 "cells": [
  {
   "cell_type": "markdown",
   "metadata": {},
   "source": [
    "### Importing "
   ]
  },
  {
   "cell_type": "code",
   "execution_count": 1,
   "metadata": {
    "collapsed": false
   },
   "outputs": [],
   "source": [
    "import numpy as np\n",
    "import hidden_markov\n",
    "from sklearn.model_selection import train_test_split\n",
    "from sklearn.naive_bayes import MultinomialNB, GaussianNB, BernoulliNB\n",
    "from sklearn.neighbors import KNeighborsClassifier\n",
    "from sklearn.ensemble import RandomForestClassifier\n",
    "from sklearn.preprocessing import Imputer\n",
    "import csv\n",
    "from sklearn.model_selection import KFold\n",
    "import matplotlib.pyplot as plt\n",
    "%matplotlib inline  \n",
    "from sklearn.ensemble import BaggingClassifier, AdaBoostClassifier, GradientBoostingClassifier"
   ]
  },
  {
   "cell_type": "markdown",
   "metadata": {},
   "source": [
    "# Data Cleaning, Imputation and Occupation Grouping"
   ]
  },
  {
   "cell_type": "markdown",
   "metadata": {},
   "source": [
    "### Make Dictionary from Occupation Number to Group Number"
   ]
  },
  {
   "cell_type": "markdown",
   "metadata": {},
   "source": [
    "Occupation Groups (and their number):\n",
    "\n",
    "1. Management Occupations\n",
    "2. Business and Financial Operations Occupations\n",
    "3. Computer and mathematical occupations\n",
    "4. Architecture and Engineering Occupations\n",
    "5. Life; Physical; and Social Science Occupations\n",
    "6. Community and Social Services Occupations\n",
    "7. Legal Occupations\n",
    "8. Education; Training; and Library Occupations\n",
    "9. Arts; Design; Entertainment; Sports; and Media Occupations\n",
    "10. Healthcare Practitioner and Technical Occupations\n",
    "11. Healthcare Support Occupations\n",
    "12. Protective Service Occupations\n",
    "13. Food Preparation and Serving Related Occupations\n",
    "14. Building and Grounds Cleaning and Maintenance Occupations\n",
    "15. Personal Care and Service Occupations\n",
    "16. Sales and Related Occupations\n",
    "17. Office and Administrative Support Occupations\n",
    "18. Agriculture Workers including Supervisors\n",
    "19. Fishing and Hunting; and Forest and Logging Workers\n",
    "20. Construction and Extraction Occupations\n",
    "21. Installation; Maintenance; and Repair Occupations\n",
    "22. Production Occupations\n",
    "23. Transportation and Material Moving Occupations\n",
    "24. Military Occupations\n",
    "25. Unemployed\n",
    "\n",
    "\n",
    "all_occupations: dictionary which maps occupations numbers to a tuple of (occupation name, occupation group number)\n",
    "\n",
    "occupation_groups: dictionary which maps occupation group number to tuple of (occupation group name, lower bound for numbers in group, upper bound for numbers in group)"
   ]
  },
  {
   "cell_type": "code",
   "execution_count": 3,
   "metadata": {
    "collapsed": false
   },
   "outputs": [],
   "source": [
    "all_occupations = dict()\n",
    "occupation_groups =  dict()\n",
    "\n",
    "with open(\"2002 Census Occupation Codes.csv\", \"r\") as ins:\n",
    "    array = []\n",
    "    for line in ins:\n",
    "        s = line.split(\",\")\n",
    "        try:\n",
    "            bounds = s[2].split(\"-\")\n",
    "            occupation_groups[int(s[0])] = [s[1][:-1],int(bounds[0]), int(bounds[1])]\n",
    "            last_group = int(s[0])\n",
    "        except:\n",
    "            num = int(s[2])\n",
    "            all_occupations[num] = [s[1],last_group]\n",
    "            array.append(line)\n",
    "            "
   ]
  },
  {
   "cell_type": "code",
   "execution_count": 4,
   "metadata": {
    "collapsed": false
   },
   "outputs": [],
   "source": [
    "occupation_groups2 =  {}\n",
    "\n",
    "with open(\"CensusCodes1980.csv\", \"r\") as ins:\n",
    "    array = []\n",
    "    for line in ins:\n",
    "        s = line.split(\",\")\n",
    "        bounds = s[2].split(\"-\")\n",
    "        occupation_groups2[int(s[0])] = range(int(bounds[0]),int(bounds[1])+1)            "
   ]
  },
  {
   "cell_type": "markdown",
   "metadata": {},
   "source": [
    "### Code for Converting Occupation Number to Group Number"
   ]
  },
  {
   "cell_type": "code",
   "execution_count": 5,
   "metadata": {
    "collapsed": true
   },
   "outputs": [],
   "source": [
    "def occupationNum_to_groupNum(occupation_num, all_occupations):\n",
    "    try:\n",
    "        return all_occupations[occupation_num][1]\n",
    "    except:\n",
    "        if occupation_num < 0:\n",
    "            return occupation_num\n",
    "        else:\n",
    "            return -10\n",
    "            "
   ]
  },
  {
   "cell_type": "code",
   "execution_count": 6,
   "metadata": {
    "collapsed": true
   },
   "outputs": [],
   "source": [
    "def occupationNum_to_groupNum_1980(occupation_num, occupation_groups2):\n",
    "    for i in occupation_groups2:\n",
    "        if occupation_num in occupation_groups2[i]:\n",
    "            return i\n",
    "    if occupation_num < 0:\n",
    "        return occupation_num\n",
    "    return -10\n",
    "        "
   ]
  },
  {
   "cell_type": "markdown",
   "metadata": {},
   "source": [
    "# Impute Data"
   ]
  },
  {
   "cell_type": "markdown",
   "metadata": {},
   "source": [
    "Imputation: \n",
    "1. Convert occupation numbers to occupation group numbers\n",
    "2. Remove instance from data set if all the values are missing\n",
    "3. If imputation_type = 'remove_leading', remove leading missing values from array\n",
    "4. Impute data based on looking at closest non-missing data on both sides of missing value\n",
    "    -if the left = right, impute missing value with the left/right value\n",
    "    -if the left != right, for ANY missing value in the array, remove instance from data set"
   ]
  },
  {
   "cell_type": "code",
   "execution_count": 7,
   "metadata": {
    "collapsed": false
   },
   "outputs": [],
   "source": [
    "def imputation(a, imputation_type):\n",
    "    \"\"\"imputation_type:\n",
    "    normal: if a missing value sits between two of the same number, \n",
    "    replace the missing value with this number. Else, throw line away\n",
    "    remove_leading: remove any leading missing data and interpolate normally  \n",
    "    \"\"\"\n",
    "\n",
    "    #first transfer occupation numbers to group numbers\n",
    "    all_missing = True\n",
    "    has_incorrect_occnum = False\n",
    "    for i in range(len(a)):\n",
    "        if int(a[i]) > 0:\n",
    "            all_missing = False\n",
    "        a[i] = occupationNum_to_groupNum(int(a[i]), all_occupations)\n",
    "        if a[i] == -10:\n",
    "            has_incorrect_occnum = True\n",
    "            \n",
    "    #if we have purely missing data or the row contains a career code that isnt\n",
    "    #in the occupation codes file\n",
    "    if all_missing or has_incorrect_occnum:  \n",
    "        return []\n",
    "    \n",
    "    #remove leading missing data, based on scheme\n",
    "    array = []\n",
    "    flag = False    \n",
    "    for i in range(len(a)):\n",
    "        if int(a[i]) > 0:\n",
    "            flag = True\n",
    "        if flag == True:\n",
    "            array.append(a[i])\n",
    "        else:     \n",
    "            #if imputation_type == remove_leading, do nothing \n",
    "            if imputation_type == 'normal':\n",
    "                array.append(a[i])    \n",
    "                \n",
    "    both_sides_same = True\n",
    "    for i in range(len(array)):\n",
    "        if int(array[i]) < 0: #if we are considering missing data\n",
    "            j = i\n",
    "            while j < len(array)-1 and int(array[j]) < 0:\n",
    "                j += 1\n",
    "            right = int(array[j])\n",
    "            \n",
    "            k = i\n",
    "            while k > 0 and  int(array[k]) < 0 :\n",
    "                k -= 1\n",
    "            left = int(array[k])   \n",
    "\n",
    "            #if both left and right are the same, and a valid occupation, impute \n",
    "            if left == right and left > 0:\n",
    "                array[i] = right\n",
    "            elif right < 0: #impute missing values at end of array\n",
    "                array[i] = left\n",
    "            else: #if both sides aren't the same, ignore this line\n",
    "                both_sides_same = False\n",
    "        \n",
    "    \"\"\"if the line is \"invalid\" because leading missing data or couldn't impute value within\n",
    "    the array, then \"throw\" this line away \"\"\"\n",
    "    if both_sides_same == True:\n",
    "        return array\n",
    "    else: \n",
    "        return []"
   ]
  },
  {
   "cell_type": "code",
   "execution_count": 8,
   "metadata": {
    "collapsed": false
   },
   "outputs": [],
   "source": [
    "def write_cleaned_data_to_file(impute_type, filename):\n",
    "    new_data = []\n",
    "    num = []\n",
    "    with open('data.csv') as f1:\n",
    "        for line in f1:\n",
    "            s1 = line.replace('\\r\\n', '')\n",
    "            sl = s1.split(',')\n",
    "            if sl[0] != 'R0000100' and sl[0] != 'PUBID_1997': #if these are metadata lines, ignore\n",
    "                new_line = imputation(sl[7:22],impute_type) \n",
    "                if new_line != []:\n",
    "                    new_data.append(new_line)\n",
    "                \n",
    "    np.random.shuffle(new_line)\n",
    "    for i in range(len(new_data)):\n",
    "        for j in range(len(new_data[i])):\n",
    "            new_data[i][j] = int(new_data[i][j])\n",
    "            \n",
    "    with open(filename, \"wb\") as f:\n",
    "        writer = csv.writer(f)\n",
    "        writer.writerows(new_data)\n",
    "\n",
    " \n",
    "#write_cleaned_data_to_file('remove_leading','CleanedDataLeadingRemovedInt.csv')\n",
    "#write_cleaned_data_to_file('remove_leading','CleanedDataLeadingRemoved.csv')\n",
    "#write_cleaned_data_to_file('normal','CleanedData.csv')"
   ]
  },
  {
   "cell_type": "code",
   "execution_count": 9,
   "metadata": {
    "collapsed": true
   },
   "outputs": [],
   "source": [
    "def imputation1980(a, imputation_type):\n",
    "    \"\"\"imputation_type:\n",
    "    normal: if a missing value sits between two of the same number, \n",
    "    replace the missing value with this number. Else, throw line away\n",
    "    remove_leading: remove any leading missing data and interpolate normally  \n",
    "    \"\"\"\n",
    "\n",
    "    #first transfer occupation numbers to group numbers\n",
    "    all_missing = True\n",
    "    has_incorrect_occnum = False\n",
    "    for i in range(len(a)):\n",
    "        if int(a[i]) > 0:\n",
    "            all_missing = False\n",
    "        a[i] = occupationNum_to_groupNum_1980(int(a[i]), occupation_groups2)\n",
    "        if a[i] == -10:\n",
    "            has_incorrect_occnum = True\n",
    "            \n",
    "    #if we have purely missing data or the row contains a career code that isnt\n",
    "    #in the occupation codes file\n",
    "    if all_missing or has_incorrect_occnum:  \n",
    "        return []\n",
    "    \n",
    "    #remove leading missing data, based on scheme\n",
    "    array = []\n",
    "    flag = False    \n",
    "    for i in range(len(a)):\n",
    "        if int(a[i]) > 0:\n",
    "            flag = True\n",
    "        if flag == True:\n",
    "            array.append(a[i])\n",
    "        else:     \n",
    "            #if imputation_type == remove_leading, do nothing \n",
    "            if imputation_type == 'normal':\n",
    "                array.append(a[i])    \n",
    "                \n",
    "    both_sides_same = True\n",
    "    for i in range(len(array)):\n",
    "        if int(array[i]) < 0: #if we are considering missing data\n",
    "            j = i\n",
    "            while j < len(array)-1 and int(array[j]) < 0:\n",
    "                j += 1\n",
    "            right = int(array[j])\n",
    "            \n",
    "            k = i\n",
    "            while k > 0 and  int(array[k]) < 0 :\n",
    "                k -= 1\n",
    "            left = int(array[k])   \n",
    "\n",
    "            #if both left and right are the same, and a valid occupation, impute \n",
    "            if left == right and left > 0:\n",
    "                array[i] = right\n",
    "            elif right < 0: #impute missing values at end of array\n",
    "                array[i] = left\n",
    "            else: #if both sides aren't the same, ignore this line\n",
    "                both_sides_same = False\n",
    "        \n",
    "    \"\"\"if the line is \"invalid\" because leading missing data or couldn't impute value within\n",
    "    the array, then \"throw\" this line away \"\"\"\n",
    "    if both_sides_same == True:\n",
    "        return array\n",
    "    else: \n",
    "        return []"
   ]
  },
  {
   "cell_type": "code",
   "execution_count": 10,
   "metadata": {
    "collapsed": false
   },
   "outputs": [],
   "source": [
    "def write_cleaned_data_to_file1980(impute_type, filename):\n",
    "    new_data = []\n",
    "    num = []\n",
    "    with open('occupations1979.csv') as f1:\n",
    "        for line in f1:\n",
    "            s1 = line.replace('\\r\\n', '')\n",
    "            sl = s1.split(',')\n",
    "            if sl[0] != 'A0002500' and sl[0] != 'VERSION_R25_2012': #if these are metadata lines, ignore\n",
    "                new_line = imputation1980(sl[4:],impute_type) \n",
    "                if new_line != []:\n",
    "                    new_data.append(new_line)\n",
    "                \n",
    "    np.random.shuffle(new_line)\n",
    "    for i in range(len(new_data)):\n",
    "        for j in range(len(new_data[i])):\n",
    "            new_data[i][j] = int(new_data[i][j])\n",
    "            \n",
    "    with open(filename, \"wb\") as f:\n",
    "        writer = csv.writer(f)\n",
    "        writer.writerows(new_data)\n",
    "\n",
    "write_cleaned_data_to_file1980('remove_leading','CleanedDataLeadingRemoved1979.csv')\n",
    "\n",
    "#write_cleaned_data_to_file('remove_leading','CleanedDataLeadingRemovedInt.csv')\n",
    "#write_cleaned_data_to_file('remove_leading','CleanedDataLeadingRemoved.csv')\n",
    "#write_cleaned_data_to_file('normal','CleanedData.csv')"
   ]
  },
  {
   "cell_type": "markdown",
   "metadata": {},
   "source": [
    "# Models"
   ]
  },
  {
   "cell_type": "markdown",
   "metadata": {},
   "source": [
    "## Read in Data and Chunk it"
   ]
  },
  {
   "cell_type": "code",
   "execution_count": 11,
   "metadata": {
    "collapsed": false
   },
   "outputs": [],
   "source": [
    "xx = []\n",
    "yy = []\n",
    "with open('CleanedDataLeadingRemoved.csv') as f:\n",
    "        for line in f:\n",
    "            line = line.replace('\\r\\n','').split(',')\n",
    "            for j in range(0,len(line)-3):\n",
    "                xx.append([int(line[j]),int(line[j+1]),int(line[j+2])])\n",
    "                yy.append(int(line[j+3]))\n",
    "#xx = np.array(xx)\n",
    "#yy = np.array(yy)\n",
    "x_test = []\n",
    "x = []\n",
    "y_test = []\n",
    "y = []\n",
    "index = int(len(xx)*0.2)\n",
    "for i in range(len(xx)):\n",
    "    if i <= index:\n",
    "        x_test.append(xx[i])\n",
    "        y_test.append(yy[i])\n",
    "    else:\n",
    "        x.append(xx[i])\n",
    "        y.append(yy[i])\n",
    "\n",
    "x_test = np.array(x_test)\n",
    "y_test = np.array(y_test)\n",
    "x = np.array(x)\n",
    "y = np.array(y)"
   ]
  },
  {
   "cell_type": "markdown",
   "metadata": {},
   "source": [
    "## Set up k-fold cross validation"
   ]
  },
  {
   "cell_type": "code",
   "execution_count": 3,
   "metadata": {
    "collapsed": false
   },
   "outputs": [],
   "source": [
    "def run_model(model_type):\n",
    "    kf = KFold(n_splits=5)\n",
    "    scores = []\n",
    "    for train_index, test_index in kf.split(x):\n",
    "        X_train, X_valid = x[train_index], x[test_index]\n",
    "        y_train, y_valid = y[train_index], y[test_index]\n",
    "    \n",
    "        clf = model_type\n",
    "        clf.fit(X_train, y_train)\n",
    "        scores.append(clf.score(X_valid, y_valid))\n",
    "\n",
    "    return sum(scores)/5.0"
   ]
  },
  {
   "cell_type": "code",
   "execution_count": 4,
   "metadata": {
    "collapsed": false
   },
   "outputs": [
    {
     "name": "stdout",
     "output_type": "stream",
     "text": [
      "0.0 0.166426351642\n",
      "0.1 0.166426351642\n",
      "0.2 0.166426351642\n",
      "0.3 0.166426351642\n",
      "0.4 0.166426351642\n",
      "0.5 0.166426351642\n",
      "0.6 0.166426351642\n",
      "0.7 0.166426351642\n",
      "0.8 0.166426351642\n",
      "0.9 0.166426351642\n",
      "1.0 0.166426351642\n"
     ]
    }
   ],
   "source": [
    "#Multinomial Model- tune alpha\n",
    "alphas = np.linspace(0,1,11)\n",
    "for alpha in alphas:\n",
    "    print alpha, run_model(MultinomialNB(alpha=alpha))\n",
    "    \n",
    "#so smoothing does not help, most likely because small state space and \n",
    "#lots of data, so large chance of encountering each triplet"
   ]
  },
  {
   "cell_type": "code",
   "execution_count": 6,
   "metadata": {
    "collapsed": false
   },
   "outputs": [
    {
     "name": "stdout",
     "output_type": "stream",
     "text": [
      "0.0 0.0410393458705\n",
      "0.1 0.155393111663\n",
      "0.2 0.155393111663\n",
      "0.3 0.155393111663\n",
      "0.4 0.155393111663\n",
      "0.5 0.155393111663\n",
      "0.6 0.155393111663\n",
      "0.7 0.155393111663\n",
      "0.8 0.155393111663\n",
      "0.9 0.155393111663\n",
      "1.0 0.155393111663\n"
     ]
    }
   ],
   "source": [
    "#Bernoulli Model- tune alpha \n",
    "alphas = np.linspace(0,1,11)\n",
    "for alpha in alphas:\n",
    "    print alpha, run_model(BernoulliNB(alpha = alpha))\n",
    "\n",
    "#so perform some smoothing, alpha != 0 is optimal"
   ]
  },
  {
   "cell_type": "code",
   "execution_count": 7,
   "metadata": {
    "collapsed": false
   },
   "outputs": [
    {
     "name": "stdout",
     "output_type": "stream",
     "text": [
      "0.374537269479\n"
     ]
    }
   ],
   "source": [
    "#Gaussian Model\n",
    "print run_model(GaussianNB())"
   ]
  },
  {
   "cell_type": "code",
   "execution_count": 8,
   "metadata": {
    "collapsed": false
   },
   "outputs": [
    {
     "name": "stdout",
     "output_type": "stream",
     "text": [
      "1 0.563907177159\n",
      "2 0.610590198192\n",
      "3 0.635157545258\n",
      "4 0.672818848263\n",
      "5 0.696561708927\n",
      "6 0.708471101311\n",
      "7 0.709527958468\n",
      "8 0.712002743382\n",
      "9 0.712569923123\n",
      "10 0.712337947755\n",
      "11 0.711409933316\n",
      "12 0.711487279481\n",
      "13 0.711023222423\n",
      "14 0.71143567993\n",
      "15 0.7105076522\n",
      "16 0.710945899515\n",
      "17 0.709914798941\n",
      "18 0.70927033284\n",
      "19 0.709064107409\n"
     ]
    },
    {
     "data": {
      "image/png": "[encoded data removed]",
      "text/plain": [
       "<matplotlib.figure.Figure at 0x10faf5590>"
      ]
     },
     "metadata": {},
     "output_type": "display_data"
    }
   ],
   "source": [
    "#K Nearest Neighbors Classifier- tune n\n",
    "ns = range(1,20)\n",
    "scores = []\n",
    "for n in ns:\n",
    "    score = run_model(KNeighborsClassifier(n_neighbors = n))\n",
    "    print n, score \n",
    "    scores.append(score)\n",
    "\n",
    "plt.plot(ns,scores)\n",
    "plt.show()\n",
    "\n",
    "#pick n= 9"
   ]
  },
  {
   "cell_type": "code",
   "execution_count": 9,
   "metadata": {
    "collapsed": false
   },
   "outputs": [
    {
     "name": "stdout",
     "output_type": "stream",
     "text": [
      "10 0.715611814682\n",
      "20 0.716978083082\n",
      "30 0.717545222953\n",
      "40 0.716720337842\n",
      "50 0.717235894774\n",
      "60 0.717235881484\n",
      "70 0.717803024677\n",
      "80 0.71739055388\n",
      "90 0.717725688479\n"
     ]
    },
    {
     "data": {
      "image/png": "[encoded data removed]",
      "text/plain": [
       "<matplotlib.figure.Figure at 0x110022390>"
      ]
     },
     "metadata": {},
     "output_type": "display_data"
    }
   ],
   "source": [
    "scores = []\n",
    "ns = [10*i for i in range(1,10)]\n",
    "for n in ns:\n",
    "    score = run_model(BaggingClassifier(KNeighborsClassifier(n_neighbors=9), n_estimators = n))\n",
    "    print n, score \n",
    "    scores.append(score)\n",
    "    \n",
    "plt.plot(ns,scores)\n",
    "plt.show()\n",
    "\n",
    "#70 bags is optimal"
   ]
  },
  {
   "cell_type": "code",
   "execution_count": 10,
   "metadata": {
    "collapsed": false
   },
   "outputs": [
    {
     "name": "stdout",
     "output_type": "stream",
     "text": [
      "50 0.717364754104\n",
      "100 0.717519433145\n",
      "150 0.718318548384\n",
      "200 0.718447457553\n",
      "250 0.718421714261\n",
      "300 0.718035010013\n",
      "350 0.718060823079\n",
      "400 0.718189692377\n"
     ]
    },
    {
     "data": {
      "image/png": "[encoded data removed]",
      "text/plain": [
       "<matplotlib.figure.Figure at 0x103d0dd10>"
      ]
     },
     "metadata": {},
     "output_type": "display_data"
    }
   ],
   "source": [
    "# Random Forest Classifier- tune n_estimators\n",
    "ns = [i*50 for i in range(1,9)]\n",
    "np.insert(ns,0,1)\n",
    "scores = []\n",
    "for n in ns:\n",
    "    score = run_model(RandomForestClassifier(n_estimators=n))\n",
    "    print n, score \n",
    "    scores.append(score)\n",
    "\n",
    "plt.plot(ns,scores)\n",
    "plt.show()\n",
    "\n",
    "#250 bags is optimal"
   ]
  },
  {
   "cell_type": "markdown",
   "metadata": {},
   "source": [
    "## Test Set"
   ]
  },
  {
   "cell_type": "code",
   "execution_count": 11,
   "metadata": {
    "collapsed": false
   },
   "outputs": [
    {
     "name": "stdout",
     "output_type": "stream",
     "text": [
      "0.205278894731\n",
      "0.194040622745\n",
      "0.339519538097\n",
      "0.731621816682\n",
      "0.739560779462\n",
      "0.74100422724\n"
     ]
    }
   ],
   "source": [
    "def test(model_type):\n",
    "    clf = model_type\n",
    "    clf.fit(x, y)\n",
    "    return clf.score(x_test, y_test)\n",
    "\n",
    "print test(MultinomialNB(alpha=1.0))\n",
    "print test(BernoulliNB(alpha = 1.0))\n",
    "print test(GaussianNB())\n",
    "print test(KNeighborsClassifier(n_neighbors = 9))\n",
    "print test(BaggingClassifier(KNeighborsClassifier(n_neighbors=9), n_estimators = 70))\n",
    "print test(RandomForestClassifier(n_estimators=250))"
   ]
  },
  {
   "cell_type": "code",
   "execution_count": 7,
   "metadata": {
    "collapsed": false
   },
   "outputs": [
    {
     "name": "stdout",
     "output_type": "stream",
     "text": [
      "[ 0.19812759  0.27798113  0.52389128]\n"
     ]
    }
   ],
   "source": [
    "def test():\n",
    "    clf = RandomForestClassifier(n_estimators=250)\n",
    "    clf.fit(x, y)\n",
    "    print clf.feature_importances_\n",
    "    #return clf.score(x_test, y_test)\n",
    "    \n",
    "test()"
   ]
  }
 ],
 "metadata": {
  "anaconda-cloud": {},
  "kernelspec": {
   "display_name": "Python [py27]",
   "language": "python",
   "name": "Python [py27]"
  },
  "language_info": {
   "codemirror_mode": {
    "name": "ipython",
    "version": 2
   },
   "file_extension": ".py",
   "mimetype": "text/x-python",
   "name": "python",
   "nbconvert_exporter": "python",
   "pygments_lexer": "ipython2",
   "version": "2.7.12"
  }
 },
 "nbformat": 4,
 "nbformat_minor": 0
}
