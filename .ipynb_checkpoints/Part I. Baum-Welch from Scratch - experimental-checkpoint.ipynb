{
 "cells": [
  {
   "cell_type": "code",
   "execution_count": 1,
   "metadata": {
    "collapsed": true
   },
   "outputs": [],
   "source": [
    "import numpy as np\n",
    "from copy import copy\n",
    "import matplotlib.pyplot as plt\n",
    "%matplotlib inline  \n"
   ]
  },
  {
   "cell_type": "markdown",
   "metadata": {},
   "source": [
    "* We implement Baum-Welch from scratch.\n",
    "* We follow the formulae described here http://imaging.mrc-cbu.cam.ac.uk/methods/BayesianStuff?action=AttachFile&do=get&target=bilmes-em-algorithm.pdf and on https://en.wikipedia.org/wiki/Baum%E2%80%93Welch_algorithm."
   ]
  },
  {
   "cell_type": "markdown",
   "metadata": {},
   "source": [
    "### STRATEGY \n",
    "1. Choose arbitrary HMM parameters.\n",
    "2. Simulate an observation sequence of length 100 from it.\n",
    "3. Occlude the HMM parameters and use the observation sequence to estimate them using Baum-Welch.\n",
    "4. Repeat this process 300 times, storing the estimate each time.\n",
    "5. Compare distribution of estimates to true probabilities."
   ]
  },
  {
   "cell_type": "code",
   "execution_count": 2,
   "metadata": {
    "collapsed": true
   },
   "outputs": [],
   "source": [
    "sample = lambda prob: np.where(np.random.multinomial(1,prob)==1)[0][0]\n",
    "\n",
    "def simulate(nsteps, pi, A, B):\n",
    "    '''\n",
    "    Input = parameters of an HMM.\n",
    "    Output = simulated observation sequence of length nsteps.\n",
    "    '''\n",
    "    Z = np.zeros(nsteps, dtype=int) # latent states\n",
    "    observations = np.zeros(nsteps, dtype=int) # emissions  \n",
    "    \n",
    "    # markov through states\n",
    "    Z[0] = sample(pi)\n",
    "    for t in range(1,nsteps):\n",
    "        Z[t] = sample(A[Z[t-1],:])\n",
    "    # get corresponding emissions\n",
    "    \n",
    "    for t in range(nsteps):\n",
    "        observations[t] = sample(B[Z[t],:])\n",
    "    return observations"
   ]
  },
  {
   "cell_type": "code",
   "execution_count": 3,
   "metadata": {
    "collapsed": false
   },
   "outputs": [],
   "source": [
    "def gen_jitter(X, den): \n",
    "    '''\n",
    "    Input = matrix\n",
    "    Output = matrix after lifting all cells above zero without harming the condition that rows should sum to 1.\n",
    "    '''\n",
    "    if X.ndim>1:\n",
    "        jitter = np.random.random(X.shape[0]*X.shape[1]).reshape(X.shape)/den\n",
    "        Y = jitter + X\n",
    "        for i in range(X.shape[0]):\n",
    "            Y[i,:] = Y[i,:]/np.sum(Y[i,:])\n",
    "        return Y\n",
    "    else:\n",
    "        jitter = np.random.random(X.shape[0])/den\n",
    "        Y = jitter + X\n",
    "        normalize = np.sum(Y)\n",
    "        return Y/normalize\n"
   ]
  },
  {
   "cell_type": "markdown",
   "metadata": {},
   "source": [
    "* The true HMM parameters. This info will be occluded from hereonin. "
   ]
  },
  {
   "cell_type": "code",
   "execution_count": 4,
   "metadata": {
    "collapsed": true
   },
   "outputs": [],
   "source": [
    "pi_true = np.array([0.6, 0.4])\n",
    "A_true = np.array([[0.7, 0.3],\n",
    "                  [0.4, 0.6]])\n",
    "B_true = np.array([[0.9, 0.1],\n",
    "                  [0.2, 0.8]])\n",
    "nsteps = 100"
   ]
  },
  {
   "cell_type": "code",
   "execution_count": 5,
   "metadata": {
    "collapsed": false
   },
   "outputs": [
    {
     "name": "stdout",
     "output_type": "stream",
     "text": [
      "Wall time: 5min 38s\n"
     ]
    }
   ],
   "source": [
    "%%time\n",
    "\n",
    "A_list = []\n",
    "B_list = []\n",
    "pi_list = []\n",
    "for iter_ctr in range(300):\n",
    "    # simulate observation sequence\n",
    "    E = simulate(nsteps,pi_true,A_true,B_true)\n",
    "    \n",
    "    # initial guess for parameters\n",
    "    # choose \"jittered\" identity matrix for transition and emission matrices to reflect what we do with real data\n",
    "    pi = gen_jitter(pi_true,2)\n",
    "    A = gen_jitter(A_true,2)\n",
    "    B = gen_jitter(B_true,2)\n",
    "\n",
    "    for _ in range(200):\n",
    "        # forward\n",
    "        alpha = np.zeros((A.shape[0], nsteps))\n",
    "        alpha[:,0] = pi * B[:,E[0]]\n",
    "        for t in range(1,nsteps):\n",
    "            new_row = np.zeros(A.shape[0])\n",
    "            for j in range(A.shape[0]):\n",
    "                new_row[j] = B[j,E[t]] * np.dot(alpha[:,t-1],A[:,j])\n",
    "            alpha[:,t] = new_row\n",
    "\n",
    "        # backward\n",
    "        beta = np.zeros((A.shape[0], nsteps))\n",
    "        beta[:,nsteps-1] = np.ones(A.shape[0])\n",
    "        for t in range(nsteps-2,-1,-1):\n",
    "            new_row = np.zeros(A.shape[0])\n",
    "            for i in range(A.shape[0]):\n",
    "                new_row[i] = np.dot(beta[:,t+1] ,(A[i,:]*B[:,E[t+1]]))\n",
    "            beta[:,t] = new_row\n",
    "\n",
    "        # update\n",
    "        # gamma\n",
    "        gamma = np.zeros((A.shape[0], nsteps))\n",
    "        for t in range(nsteps):\n",
    "            new_row = np.zeros(A.shape[0])\n",
    "            for i in range(A.shape[0]):\n",
    "                new_row[i] = float(alpha[i,t]*beta[i,t]) / np.dot(alpha[:,t],beta[:,t])\n",
    "            gamma[:,t] = new_row\n",
    "\n",
    "        # epsilon\n",
    "        epsilon_vec = []\n",
    "        for t in range(nsteps-1):\n",
    "            epsilon_jnr = np.zeros((A.shape))\n",
    "            den = np.sum([[alpha[i,t]*A[i,j]*beta[j,t+1]*B[j,E[t+1]] for i in range(A.shape[0])] for j in range(A.shape[0])])\n",
    "            for i in range(A.shape[0]):\n",
    "                for j in range(A.shape[0]):\n",
    "                    num = alpha[i,t] * A[i,j] * beta[j,t+1] * B[j,E[t+1]]\n",
    "                    epsilon_jnr[i,j] = float(num)/den\n",
    "            epsilon_vec.append(epsilon_jnr)\n",
    "        epsilon_vec\n",
    "\n",
    "        pi_new = gamma[:,0]\n",
    "\n",
    "        A_new = np.zeros((A.shape))\n",
    "        for i in range(A.shape[0]):\n",
    "            for j in range(A.shape[0]):\n",
    "                num = np.sum([epsilon_vec[t][i,j] for t in range(nsteps-1)])\n",
    "                den = np.sum([gamma[i,t] for t in range(nsteps-1)])\n",
    "                A_new[i,j] = float(num)/den\n",
    "\n",
    "        B_new = np.zeros((B.shape))\n",
    "        for i in range(B.shape[0]):\n",
    "            den = np.sum([gamma[i,t] for t in range(nsteps)])\n",
    "            for k in range(B.shape[1]):\n",
    "                num = np.sum([(k==E[t])*gamma[i,t] for t in range(nsteps)])\n",
    "                B_new[i,k] = float(num)/den\n",
    "\n",
    "        A = A_new\n",
    "        B = B_new\n",
    "        pi = pi_new\n",
    "    A_list.append(A)\n",
    "    B_list.append(B)\n",
    "    pi_list.append(pi)"
   ]
  },
  {
   "cell_type": "code",
   "execution_count": 6,
   "metadata": {
    "collapsed": true
   },
   "outputs": [],
   "source": [
    "def plot_prob(matrix_true, matrix_est, coord_tuple):\n",
    "    '''\n",
    "    input = true matrix, matrix of estimates and the cell within the matrix we wish to evaluate\n",
    "    output = histogram of estimates\n",
    "    '''\n",
    "    A00 = np.array([i[coord_tuple] for i in matrix_est])\n",
    "    plt.hist(np.array(A00), alpha=.4)\n",
    "    plt.axvline(matrix_true[coord_tuple], color='red', ls='--', lw=2, label='truth')\n",
    "    plt.xlim([0,1])\n",
    "    plt.title(\"Matrix coord: \" + str(coord_tuple))\n",
    "    \n",
    "coord_tuple_list = [(0,0), (0,1), (1,0), (1,1)]\n"
   ]
  },
  {
   "cell_type": "markdown",
   "metadata": {},
   "source": [
    "* Evaluate performance on transition matrices."
   ]
  },
  {
   "cell_type": "code",
   "execution_count": 7,
   "metadata": {
    "collapsed": false
   },
   "outputs": [
    {
     "data": {
      "image/png": "[encoded data removed]",
      "text/plain": [
       "<matplotlib.figure.Figure at 0x78f0198>"
      ]
     },
     "metadata": {},
     "output_type": "display_data"
    }
   ],
   "source": [
    "plt.figure(figsize=(12,3))\n",
    "for j in range(4):\n",
    "    plt.subplot(1,4,j+1)\n",
    "    plot_prob(A_true, A_list, coord_tuple_list[j])\n",
    "    if j==0:\n",
    "        plt.ylabel(\"Count\")\n",
    "        plt.legend(loc=2)\n",
    "    if j==1:\n",
    "        plt.annotate('Probability', xy=(1,0), xytext=(0, -20), ha='left', va='top',\n",
    "            xycoords='axes fraction', textcoords='offset points')\n",
    "    \n",
    "plt.savefig('plots/Transition.png', bbox_inches='tight')\n"
   ]
  },
  {
   "cell_type": "markdown",
   "metadata": {},
   "source": [
    "* Evaluate performance on emission matrices."
   ]
  },
  {
   "cell_type": "code",
   "execution_count": 8,
   "metadata": {
    "collapsed": false
   },
   "outputs": [
    {
     "data": {
      "image/png": "[encoded data removed]",
      "text/plain": [
       "<matplotlib.figure.Figure at 0x78f07b8>"
      ]
     },
     "metadata": {},
     "output_type": "display_data"
    }
   ],
   "source": [
    "plt.figure(figsize=(12,3))\n",
    "for j in range(4):\n",
    "    plt.subplot(1,4,j+1)\n",
    "    plot_prob(B_true, B_list, coord_tuple_list[j])\n",
    "    if j==0:\n",
    "        plt.ylabel(\"Count\")\n",
    "        plt.legend(loc=2)\n",
    "    if j==1:\n",
    "        plt.annotate('Probability', xy=(1,0), xytext=(0, -20), ha='left', va='top',\n",
    "            xycoords='axes fraction', textcoords='offset points')\n",
    "\n",
    "# plt.tight_layout()\n",
    "plt.savefig('plots/Emission.png', bbox_inches='tight')\n"
   ]
  },
  {
   "cell_type": "markdown",
   "metadata": {
    "collapsed": true
   },
   "source": [
    "* As described in our paper, while this implementation is functional, we need to modify Baum-Welch to work on multiple observation sequences (the structure of our data).\n",
    "* This motivates our migration to hmmlearn."
   ]
  },
  {
   "cell_type": "code",
   "execution_count": null,
   "metadata": {
    "collapsed": true
   },
   "outputs": [],
   "source": []
  },
  {
   "cell_type": "code",
   "execution_count": null,
   "metadata": {
    "collapsed": true
   },
   "outputs": [],
   "source": []
  }
 ],
 "metadata": {
  "anaconda-cloud": {},
  "kernelspec": {
   "display_name": "Python [Root]",
   "language": "python",
   "name": "Python [Root]"
  },
  "language_info": {
   "codemirror_mode": {
    "name": "ipython",
    "version": 2
   },
   "file_extension": ".py",
   "mimetype": "text/x-python",
   "name": "python",
   "nbconvert_exporter": "python",
   "pygments_lexer": "ipython2",
   "version": "2.7.12"
  }
 },
 "nbformat": 4,
 "nbformat_minor": 0
}
