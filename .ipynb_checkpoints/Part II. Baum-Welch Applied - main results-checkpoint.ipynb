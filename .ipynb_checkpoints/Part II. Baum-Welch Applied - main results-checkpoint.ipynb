{
 "cells": [
  {
   "cell_type": "code",
   "execution_count": 5,
   "metadata": {
    "collapsed": false
   },
   "outputs": [],
   "source": [
    "import numpy as np\n",
    "from hmmlearn import hmm\n",
    "import matplotlib.pyplot as plt\n",
    "%matplotlib inline  \n",
    "import pandas as pd\n",
    "from time import clock,time\n",
    "import csv\n",
    "import re\n",
    "import seaborn as sns\n"
   ]
  },
  {
   "cell_type": "code",
   "execution_count": 6,
   "metadata": {
    "collapsed": false
   },
   "outputs": [],
   "source": [
    "from matplotlib.colors import ListedColormap\n",
    "my_cmap = sns.cubehelix_palette(80, start=2, rot=0, dark=0, light=.9, reverse=False)\n",
    "my_cmap[0] = (1.,1.,1.)\n",
    "my_cmap = ListedColormap(my_cmap)\n"
   ]
  },
  {
   "cell_type": "markdown",
   "metadata": {},
   "source": [
    "# Package dependency:\n",
    "* hmmlearn. Install by pip install hmmlearn.\n",
    "* runtime approx 30 minutes."
   ]
  },
  {
   "cell_type": "markdown",
   "metadata": {},
   "source": [
    "# 1. Experimental sanity check\n",
    "* Test this implementation of Baum-Welch recovers emission and transition probabilities as expected."
   ]
  },
  {
   "cell_type": "code",
   "execution_count": null,
   "metadata": {
    "collapsed": true
   },
   "outputs": [],
   "source": [
    "sample = lambda prob: np.where(np.random.multinomial(1,prob)==1)[0][0]\n",
    "\n",
    "def simulate(nsteps, pi, A, B):\n",
    "    '''\n",
    "    Input = parameters of an HMM.\n",
    "    Output = simulated observation sequence of length nsteps.\n",
    "    '''\n",
    "    Z = np.zeros(nsteps, dtype=int) # latent states\n",
    "    observations = np.zeros(nsteps, dtype=int) # emissions  \n",
    "    \n",
    "    # markov through states\n",
    "    Z[0] = sample(pi)\n",
    "    for t in range(1,nsteps):\n",
    "        Z[t] = sample(A[Z[t-1],:])\n",
    "        \n",
    "    # get corresponding emissions  \n",
    "    for t in range(nsteps):\n",
    "        observations[t] = sample(B[Z[t],:])\n",
    "    return observations"
   ]
  },
  {
   "cell_type": "code",
   "execution_count": null,
   "metadata": {
    "collapsed": true
   },
   "outputs": [],
   "source": [
    "def gen_jitter(X, den): \n",
    "    '''\n",
    "    Input = matrix\n",
    "    Output = matrix after lifting all cells above zero without harming the condition that rows should sum to 1.\n",
    "    '''\n",
    "    jitter = np.random.random(X.shape[0]*X.shape[1]).reshape(X.shape)/den\n",
    "    Y = jitter + X\n",
    "    for i in range(X.shape[0]):\n",
    "        Y[i,:] = Y[i,:]/np.sum(Y[i,:])\n",
    "    return Y\n"
   ]
  },
  {
   "cell_type": "markdown",
   "metadata": {},
   "source": [
    "* Define arbitrary \"true\" emission, transition and start probabilities."
   ]
  },
  {
   "cell_type": "code",
   "execution_count": null,
   "metadata": {
    "collapsed": true
   },
   "outputs": [],
   "source": [
    "pi_true = np.ones(5)/5.\n",
    "E_true = np.zeros((5,5))\n",
    "for i in range(5):\n",
    "    E_true[i,i] = 0.7\n",
    "    if i==0:\n",
    "        E_true[i,i+1] = .3\n",
    "    elif i==4:\n",
    "        E_true[i,i-1] = .3\n",
    "    else:\n",
    "        E_true[i,i-1] = .15\n",
    "        E_true[i,i+1] = .15\n",
    "T_true = E_true\n"
   ]
  },
  {
   "cell_type": "markdown",
   "metadata": {},
   "source": [
    "* Simulate multiple observation sequences of random length between 5 and 8."
   ]
  },
  {
   "cell_type": "code",
   "execution_count": 3,
   "metadata": {
    "collapsed": false
   },
   "outputs": [
    {
     "ename": "NameError",
     "evalue": "name 'simulate' is not defined",
     "output_type": "error",
     "traceback": [
      "\u001b[0;31m\u001b[0m",
      "\u001b[0;31mNameError\u001b[0mTraceback (most recent call last)",
      "\u001b[0;32m<ipython-input-3-9cb30906c4da>\u001b[0m in \u001b[0;36m<module>\u001b[0;34m()\u001b[0m\n\u001b[1;32m      1\u001b[0m \u001b[0mcareers_all\u001b[0m \u001b[1;33m=\u001b[0m \u001b[1;33m[\u001b[0m\u001b[1;33m]\u001b[0m\u001b[1;33m\u001b[0m\u001b[0m\n\u001b[1;32m      2\u001b[0m \u001b[1;32mfor\u001b[0m \u001b[0mi\u001b[0m \u001b[1;32min\u001b[0m \u001b[0mrange\u001b[0m\u001b[1;33m(\u001b[0m\u001b[1;36m200\u001b[0m\u001b[1;33m)\u001b[0m\u001b[1;33m:\u001b[0m\u001b[1;33m\u001b[0m\u001b[0m\n\u001b[0;32m----> 3\u001b[0;31m     \u001b[0mcareers_all\u001b[0m\u001b[1;33m.\u001b[0m\u001b[0mappend\u001b[0m\u001b[1;33m(\u001b[0m\u001b[0msimulate\u001b[0m\u001b[1;33m(\u001b[0m\u001b[0mnp\u001b[0m\u001b[1;33m.\u001b[0m\u001b[0mrandom\u001b[0m\u001b[1;33m.\u001b[0m\u001b[0mrandint\u001b[0m\u001b[1;33m(\u001b[0m\u001b[1;36m5\u001b[0m\u001b[1;33m,\u001b[0m\u001b[1;36m8\u001b[0m\u001b[1;33m)\u001b[0m\u001b[1;33m,\u001b[0m \u001b[0mpi_true\u001b[0m\u001b[1;33m,\u001b[0m \u001b[0mT_true\u001b[0m\u001b[1;33m,\u001b[0m \u001b[0mE_true\u001b[0m\u001b[1;33m)\u001b[0m\u001b[1;33m)\u001b[0m\u001b[1;33m\u001b[0m\u001b[0m\n\u001b[0m\u001b[1;32m      4\u001b[0m \u001b[0mcareers_all\u001b[0m\u001b[1;33m[\u001b[0m\u001b[1;33m:\u001b[0m\u001b[1;36m5\u001b[0m\u001b[1;33m]\u001b[0m\u001b[1;33m\u001b[0m\u001b[0m\n",
      "\u001b[0;31mNameError\u001b[0m: name 'simulate' is not defined"
     ]
    }
   ],
   "source": [
    "careers_all = []\n",
    "for i in range(200):\n",
    "    careers_all.append(simulate(np.random.randint(5,8), pi_true, T_true, E_true))\n",
    "careers_all[:5]\n"
   ]
  },
  {
   "cell_type": "markdown",
   "metadata": {},
   "source": [
    "* Train HMM."
   ]
  },
  {
   "cell_type": "code",
   "execution_count": 60,
   "metadata": {
    "collapsed": false
   },
   "outputs": [],
   "source": [
    "X = np.concatenate(careers_all)\n",
    "lengths = [len(career) for career in careers_all]\n",
    "\n",
    "model = hmm.MultinomialHMM(n_components=5, n_iter=1000,params='ste',tol=0.01, init_params='')\n",
    "\n",
    "# choose jittered identity matrices as starting guesses for emission and transition probabilities.\n",
    "# these will be similar to our starting guesses for real occupational data.\n",
    "# note if you start with the identity matrix sans jitter, \n",
    "# Baum-Welch, sensitive to local maxima, is at great risk of not moving. \n",
    "model.startprob_ = np.ones(5)/5.\n",
    "model.transmat_ = gen_jitter(np.eye(5), 25)\n",
    "model.emissionprob_ = gen_jitter(np.eye(5), 25)\n",
    "\n",
    "fitted=model.fit(np.atleast_2d(X).T, lengths)\n"
   ]
  },
  {
   "cell_type": "code",
   "execution_count": 61,
   "metadata": {
    "collapsed": false
   },
   "outputs": [
    {
     "name": "stdout",
     "output_type": "stream",
     "text": [
      "E_estimated:\n",
      "[[ 0.76  0.24  0.    0.    0.  ]\n",
      " [ 0.11  0.8   0.08  0.    0.  ]\n",
      " [ 0.    0.13  0.79  0.08  0.  ]\n",
      " [ 0.    0.    0.17  0.73  0.09]\n",
      " [ 0.    0.    0.01  0.36  0.63]]\n",
      "E_true:\n",
      "[[ 0.7   0.3   0.    0.    0.  ]\n",
      " [ 0.15  0.7   0.15  0.    0.  ]\n",
      " [ 0.    0.15  0.7   0.15  0.  ]\n",
      " [ 0.    0.    0.15  0.7   0.15]\n",
      " [ 0.    0.    0.    0.3   0.7 ]]\n",
      "\n",
      "T_estimated:\n",
      "[[ 0.74  0.26  0.    0.    0.  ]\n",
      " [ 0.14  0.66  0.19  0.    0.  ]\n",
      " [ 0.01  0.13  0.61  0.25  0.  ]\n",
      " [ 0.    0.01  0.13  0.71  0.15]\n",
      " [ 0.    0.    0.    0.25  0.75]]\n",
      "T_true:\n",
      "[[ 0.7   0.3   0.    0.    0.  ]\n",
      " [ 0.15  0.7   0.15  0.    0.  ]\n",
      " [ 0.    0.15  0.7   0.15  0.  ]\n",
      " [ 0.    0.    0.15  0.7   0.15]\n",
      " [ 0.    0.    0.    0.3   0.7 ]]\n",
      "\n",
      "pi_estimated:\n",
      "[ 0.17  0.23  0.23  0.14  0.22]\n",
      "pi_true:\n",
      "[ 0.2  0.2  0.2  0.2  0.2]\n",
      "\n"
     ]
    }
   ],
   "source": [
    "print \"E_estimated:\\n\", np.round(fitted.emissionprob_,2)\n",
    "print \"E_true:\\n\", E_true\n",
    "print ''\n",
    "print \"T_estimated:\\n\", np.round(fitted.transmat_,2)\n",
    "print \"T_true:\\n\", T_true\n",
    "print ''\n",
    "print \"pi_estimated:\\n\", np.round(fitted.startprob_,2)\n",
    "print \"pi_true:\\n\", pi_true\n",
    "print ''"
   ]
  },
  {
   "cell_type": "markdown",
   "metadata": {
    "collapsed": true
   },
   "source": [
    "* Behavior of hmmlearn is as expected."
   ]
  },
  {
   "cell_type": "markdown",
   "metadata": {},
   "source": [
    "# 2. Application to real data (1997 cohort)"
   ]
  },
  {
   "cell_type": "markdown",
   "metadata": {},
   "source": [
    "* Note that when comparing occupation codes to the outputs of hmmlearn, hmmlearn demands codes start at 0. Therefore matrices foor hmmlearn describe occupations offset by 1. E.g. Occupation 0 in hmmlearn matrix is occupation 1 according to the appendix which matches occ_codes to descriptors.\n",
    "* Begin by pulling in the data."
   ]
  },
  {
   "cell_type": "code",
   "execution_count": 73,
   "metadata": {
    "collapsed": false
   },
   "outputs": [],
   "source": [
    "careers_all = []\n",
    "with open('input\\CleanedDataLeadingRemoved.csv', 'rb') as csvfile:\n",
    "    spamreader = csv.reader(csvfile, delimiter=',', quotechar='|')\n",
    "    for row in spamreader:\n",
    "        careers_all.append(np.array(row, dtype=int)-1)\n",
    "careers_all[:5]"
   ]
  },
  {
   "cell_type": "markdown",
   "metadata": {
    "collapsed": false
   },
   "source": [
    "* Train HMM."
   ]
  },
  {
   "cell_type": "code",
   "execution_count": 77,
   "metadata": {
    "collapsed": false
   },
   "outputs": [
    {
     "name": "stdout",
     "output_type": "stream",
     "text": [
      "Wall time: 4min 5s\n"
     ]
    }
   ],
   "source": [
    "%%time\n",
    "X = np.concatenate(careers_all)\n",
    "lengths = [len(career) for career in careers_all]\n",
    "\n",
    "model = hmm.MultinomialHMM(n_components=23, n_iter=200,params='ste',tol=0.01, init_params='')\n",
    "\n",
    "# for starting guesses, diagonals approx 1/3. The rest of the mass is distributed randomly across the off-diagonals. \n",
    "model.startprob_ = np.ones(23)/23.\n",
    "model.transmat_ = gen_jitter(np.eye(23), 5)\n",
    "model.emissionprob_ = gen_jitter(np.eye(23), 5)\n",
    "\n",
    "fitted=model.fit(np.atleast_2d(X).T, lengths)\n"
   ]
  },
  {
   "cell_type": "markdown",
   "metadata": {},
   "source": [
    "* Plot the emission and transition matrices."
   ]
  },
  {
   "cell_type": "code",
   "execution_count": 80,
   "metadata": {
    "collapsed": false
   },
   "outputs": [
    {
     "data": {
      "text/plain": [
       "<matplotlib.axes._subplots.AxesSubplot at 0xda2d7b8>"
      ]
     },
     "execution_count": 80,
     "metadata": {},
     "output_type": "execute_result"
    },
    {
     "data": {
      "image/png": "[encoded data removed]",
      "text/plain": [
       "<matplotlib.figure.Figure at 0xda15e80>"
      ]
     },
     "metadata": {},
     "output_type": "display_data"
    }
   ],
   "source": [
    "plt.figure(figsize=(11,6))\n",
    "plt.subplot(1,2,1)\n",
    "plt.title('Emission Matrix')\n",
    "plt.imshow(fitted.emissionprob_,interpolation='none',cmap=my_cmap)\n",
    "plt.subplot(1,2,2)\n",
    "plt.title('Transition Matrix')\n",
    "plt.imshow(fitted.transmat_,interpolation='none',cmap=my_cmap)\n",
    "plt.subplot(1,2,2)\n"
   ]
  },
  {
   "cell_type": "markdown",
   "metadata": {},
   "source": [
    "* Note that we start with guesses that the diagonals are approx = 1/3. Hmmlearn behaves as one might expect allowing mass along the diagonal to accumulate. The diagonals are printed below:"
   ]
  },
  {
   "cell_type": "code",
   "execution_count": 97,
   "metadata": {
    "collapsed": false
   },
   "outputs": [
    {
     "data": {
      "text/plain": [
       "array([ 0.96,  0.98,  0.97,  0.94,  0.98,  0.96,  0.93,  0.96,  0.96,\n",
       "        0.98,  0.95,  0.97,  0.98,  0.97,  0.96,  0.96,  0.97,  0.94,\n",
       "        0.  ,  0.93,  0.96,  0.95,  0.96])"
      ]
     },
     "execution_count": 97,
     "metadata": {},
     "output_type": "execute_result"
    }
   ],
   "source": [
    "np.round(np.diag(fitted.emissionprob_),2)"
   ]
  },
  {
   "cell_type": "code",
   "execution_count": 82,
   "metadata": {
    "collapsed": false
   },
   "outputs": [
    {
     "data": {
      "text/plain": [
       "array([ 0.81,  0.81,  0.87,  0.86,  0.8 ,  0.84,  0.85,  0.85,  0.82,\n",
       "        0.92,  0.87,  0.82,  0.85,  0.82,  0.8 ,  0.79,  0.82,  0.83,\n",
       "        0.61,  0.89,  0.83,  0.83,  0.81])"
      ]
     },
     "execution_count": 82,
     "metadata": {},
     "output_type": "execute_result"
    }
   ],
   "source": [
    "np.round(np.diag(fitted.transmat_),2)"
   ]
  },
  {
   "cell_type": "markdown",
   "metadata": {},
   "source": [
    "* Check we have indeed converged."
   ]
  },
  {
   "cell_type": "code",
   "execution_count": 29,
   "metadata": {
    "collapsed": false
   },
   "outputs": [
    {
     "data": {
      "text/plain": [
       "True"
      ]
     },
     "execution_count": 29,
     "metadata": {},
     "output_type": "execute_result"
    }
   ],
   "source": [
    "fitted.monitor_.converged"
   ]
  },
  {
   "cell_type": "markdown",
   "metadata": {
    "collapsed": true
   },
   "source": [
    "# 3. Application to real data (1979 cohort)"
   ]
  },
  {
   "cell_type": "code",
   "execution_count": 30,
   "metadata": {
    "collapsed": false
   },
   "outputs": [],
   "source": [
    "careers_all1979 = []\n",
    "with open('input\\CleanedDataLeadingRemoved1979.csv', 'rb') as csvfile:\n",
    "    spamreader = csv.reader(csvfile, delimiter=',', quotechar='|')\n",
    "    for row in spamreader:\n",
    "        careers_all1979.append(np.array([i for i in row if i!=''], dtype=int)-1)\n",
    "careers_all1979[:5]"
   ]
  },
  {
   "cell_type": "code",
   "execution_count": 34,
   "metadata": {
    "collapsed": false
   },
   "outputs": [
    {
     "name": "stdout",
     "output_type": "stream",
     "text": [
      "Wall time: 18min 27s\n"
     ]
    }
   ],
   "source": [
    "%%time\n",
    "X1979 = np.concatenate(careers_all1979)\n",
    "lengths1979 = [len(career) for career in careers_all1979]\n",
    "\n",
    "model1979 = hmm.MultinomialHMM(n_components=31, n_iter=200,params='ste',tol=0.01, init_params='')\n",
    "\n",
    "model1979.startprob_ = np.ones(31)/31.\n",
    "model1979.transmat_ = gen_jitter(np.eye(31), 5)\n",
    "model1979.emissionprob_ = gen_jitter(np.eye(31), 5)\n",
    "\n",
    "fitted1979=model1979.fit(np.atleast_2d(X1979).T, lengths1979)\n"
   ]
  },
  {
   "cell_type": "markdown",
   "metadata": {},
   "source": [
    "* Check we have converged."
   ]
  },
  {
   "cell_type": "code",
   "execution_count": 35,
   "metadata": {
    "collapsed": false
   },
   "outputs": [
    {
     "data": {
      "text/plain": [
       "True"
      ]
     },
     "execution_count": 35,
     "metadata": {},
     "output_type": "execute_result"
    }
   ],
   "source": [
    "fitted1979.monitor_.converged"
   ]
  },
  {
   "cell_type": "markdown",
   "metadata": {},
   "source": [
    "* Plot the emission and transition matrices for both cohorts."
   ]
  },
  {
   "cell_type": "code",
   "execution_count": 87,
   "metadata": {
    "collapsed": false
   },
   "outputs": [
    {
     "data": {
      "image/png": "[encoded data removed]",
      "text/plain": [
       "<matplotlib.figure.Figure at 0x12f46c50>"
      ]
     },
     "metadata": {},
     "output_type": "display_data"
    }
   ],
   "source": [
    "plt.figure(figsize=(12,12))\n",
    "plt.subplot(2,2,1)\n",
    "plt.title('Emission Matrix (1997 Cohort)', fontsize=16)\n",
    "# plt.xlabel('observed occupation (t)', fontsize=15)\n",
    "plt.ylabel('latent occupation (t)', fontsize=15)\n",
    "plt.imshow(fitted.emissionprob_,interpolation='none',cmap=my_cmap)\n",
    "plt.subplot(2,2,2)\n",
    "plt.title('Transition Matrix (1997 Cohort)', fontsize=16)\n",
    "# plt.ylabel('latent occupation (t)', fontsize=15)\n",
    "# plt.xlabel('latent occupation (t+1)', fontsize=15)\n",
    "plt.imshow(fitted.transmat_,interpolation='none',cmap=my_cmap)\n",
    "\n",
    "plt.subplot(2,2,3)\n",
    "plt.title('Emission Matrix (1979 Cohort)', fontsize=16)\n",
    "plt.xlabel('observed occupation (t)', fontsize=15)\n",
    "plt.ylabel('latent occupation (t)', fontsize=15)\n",
    "plt.imshow(fitted1979.emissionprob_,interpolation='none',cmap=my_cmap)\n",
    "plt.subplot(2,2,4)\n",
    "plt.title('Transition Matrix (1979 Cohort)', fontsize=16)\n",
    "# plt.ylabel('latent occupation (t)', fontsize=15)\n",
    "plt.xlabel('latent occupation (t+1)', fontsize=15)\n",
    "plt.imshow(fitted1979.transmat_,interpolation='none',cmap=my_cmap)\n",
    "\n",
    "plt.savefig(\"plots\\hmm_matrices.png\", bbox_inches='tight')\n"
   ]
  },
  {
   "cell_type": "code",
   "execution_count": 91,
   "metadata": {
    "collapsed": false
   },
   "outputs": [],
   "source": [
    "# # FOR POSTER\n",
    "# plt.figure(figsize=(12,12))\n",
    "# plt.subplot(2,2,1)\n",
    "# plt.title('Emissions', fontsize=30)\n",
    "# plt.ylabel('1997 Cohort', fontsize=30)\n",
    "# plt.imshow(fitted.emissionprob_,interpolation='none',cmap=my_cmap)\n",
    "# plt.subplot(2,2,2)\n",
    "# plt.title('Transitions', fontsize=30)\n",
    "# plt.imshow(fitted.transmat_,interpolation='none',cmap=my_cmap)\n",
    "\n",
    "# plt.subplot(2,2,3)\n",
    "# plt.ylabel('1979 Cohort', fontsize=30)\n",
    "# plt.imshow(fitted1979.emissionprob_,interpolation='none',cmap=my_cmap)\n",
    "# plt.subplot(2,2,4)\n",
    "# plt.imshow(fitted1979.transmat_,interpolation='none',cmap=my_cmap)\n",
    "\n",
    "# plt.savefig(\"hmm_matrices.png\")\n"
   ]
  },
  {
   "cell_type": "markdown",
   "metadata": {},
   "source": [
    "* Some analysis on why there are peculiar rows in the emission matrices. E.g. row 18 of the 1997 E matrix and rows 11, 12 and 24 of the 1979 E matrix.\n",
    "* As determined below these occupations have very few instances with which to train probabilities.\n",
    "* Suggest either merging them with closest analog or dropping the handful of career paths that contain them altogether."
   ]
  },
  {
   "cell_type": "code",
   "execution_count": 92,
   "metadata": {
    "collapsed": false
   },
   "outputs": [
    {
     "data": {
      "text/plain": [
       "<matplotlib.text.Text at 0x1241ada0>"
      ]
     },
     "execution_count": 92,
     "metadata": {},
     "output_type": "execute_result"
    },
    {
     "data": {
      "image/png": "[encoded data removed]",
      "text/plain": [
       "<matplotlib.figure.Figure at 0x12dd9da0>"
      ]
     },
     "metadata": {},
     "output_type": "display_data"
    }
   ],
   "source": [
    "occupation_df = pd.DataFrame(zip(X,np.ones(len(X),dtype=int)), columns=['occupation','count'])\n",
    "occupation_df = occupation_df.groupby('occupation').sum().reset_index()\n",
    "\n",
    "length_df = pd.DataFrame(zip(lengths,np.ones(len(lengths),dtype=int)), columns=['lengths','count'])\n",
    "length_df = length_df.groupby('lengths').sum().reset_index()\n",
    "\n",
    "plt.figure(figsize=(14,4))\n",
    "plt.subplot(1,2,1)\n",
    "sns.barplot(x=\"occupation\", y=\"count\", data=occupation_df, color='blue')\n",
    "plt.ylabel('count')\n",
    "plt.subplot(1,2,2)\n",
    "sns.barplot(x=\"lengths\", y=\"count\", data=length_df, color='blue')\n",
    "plt.ylabel('count')"
   ]
  },
  {
   "cell_type": "code",
   "execution_count": 93,
   "metadata": {
    "collapsed": false
   },
   "outputs": [
    {
     "data": {
      "text/plain": [
       "<matplotlib.text.Text at 0x11d597b8>"
      ]
     },
     "execution_count": 93,
     "metadata": {},
     "output_type": "execute_result"
    },
    {
     "data": {
      "image/png": "[encoded data removed]",
      "text/plain": [
       "<matplotlib.figure.Figure at 0x128df4e0>"
      ]
     },
     "metadata": {},
     "output_type": "display_data"
    }
   ],
   "source": [
    "occupation_df1979 = pd.DataFrame(zip(X1979,np.ones(len(X1979),dtype=int)), columns=['occupation','count'])\n",
    "occupation_df1979 = occupation_df1979.groupby('occupation').sum().reset_index()\n",
    "\n",
    "length_df1979 = pd.DataFrame(zip(lengths1979,np.ones(len(lengths1979),dtype=int)), columns=['lengths','count'])\n",
    "length_df1979 = length_df1979.groupby('lengths').sum().reset_index()\n",
    "\n",
    "plt.figure(figsize=(14,4))\n",
    "plt.subplot(1,2,1)\n",
    "sns.barplot(x=\"occupation\", y=\"count\", data=occupation_df1979, color='blue')\n",
    "plt.ylabel('count')\n",
    "plt.subplot(1,2,2)\n",
    "sns.barplot(x=\"lengths\", y=\"count\", data=length_df1979, color='blue')\n",
    "plt.ylabel('count')"
   ]
  },
  {
   "cell_type": "markdown",
   "metadata": {},
   "source": [
    "# 4. Analysis for results write-up."
   ]
  },
  {
   "cell_type": "code",
   "execution_count": 39,
   "metadata": {
    "collapsed": false
   },
   "outputs": [],
   "source": [
    "def get_ranked(list_to_rank, ascending=True):\n",
    "    '''\n",
    "    input = array of occupations to rank\n",
    "    output = sorted dataframe with occupation code\n",
    "    '''\n",
    "    list_fmt = list(list_to_rank)\n",
    "    occ_code = np.arange(len(list_to_rank))+1\n",
    "    rank_df = pd.DataFrame(zip(occ_code,list_fmt), columns=['occ_code','sortonme'])\n",
    "    rank_df = rank_df.sort_values(by='sortonme', ascending=ascending)\n",
    "    return rank_df\n"
   ]
  },
  {
   "cell_type": "code",
   "execution_count": 88,
   "metadata": {
    "collapsed": false
   },
   "outputs": [
    {
     "data": {
      "text/html": [
       "<div>\n",
       "<table border=\"1\" class=\"dataframe\">\n",
       "  <thead>\n",
       "    <tr style=\"text-align: right;\">\n",
       "      <th></th>\n",
       "      <th>occ_code</th>\n",
       "      <th>sortonme</th>\n",
       "    </tr>\n",
       "  </thead>\n",
       "  <tbody>\n",
       "    <tr>\n",
       "      <th>9</th>\n",
       "      <td>10</td>\n",
       "      <td>0.921483</td>\n",
       "    </tr>\n",
       "    <tr>\n",
       "      <th>19</th>\n",
       "      <td>20</td>\n",
       "      <td>0.890769</td>\n",
       "    </tr>\n",
       "    <tr>\n",
       "      <th>10</th>\n",
       "      <td>11</td>\n",
       "      <td>0.870226</td>\n",
       "    </tr>\n",
       "    <tr>\n",
       "      <th>2</th>\n",
       "      <td>3</td>\n",
       "      <td>0.867535</td>\n",
       "    </tr>\n",
       "    <tr>\n",
       "      <th>3</th>\n",
       "      <td>4</td>\n",
       "      <td>0.861420</td>\n",
       "    </tr>\n",
       "  </tbody>\n",
       "</table>\n",
       "</div>"
      ],
      "text/plain": [
       "    occ_code  sortonme\n",
       "9         10  0.921483\n",
       "19        20  0.890769\n",
       "10        11  0.870226\n",
       "2          3  0.867535\n",
       "3          4  0.861420"
      ]
     },
     "execution_count": 88,
     "metadata": {},
     "output_type": "execute_result"
    }
   ],
   "source": [
    "# most rigid career\n",
    "# healthcare\n",
    "get_ranked(fitted.transmat_.diagonal(), ascending=False).head(5)\n"
   ]
  },
  {
   "cell_type": "code",
   "execution_count": 40,
   "metadata": {
    "collapsed": false
   },
   "outputs": [
    {
     "data": {
      "text/html": [
       "<div>\n",
       "<table border=\"1\" class=\"dataframe\">\n",
       "  <thead>\n",
       "    <tr style=\"text-align: right;\">\n",
       "      <th></th>\n",
       "      <th>occ_code</th>\n",
       "      <th>sortonme</th>\n",
       "    </tr>\n",
       "  </thead>\n",
       "  <tbody>\n",
       "    <tr>\n",
       "      <th>16</th>\n",
       "      <td>17</td>\n",
       "      <td>1.489507</td>\n",
       "    </tr>\n",
       "    <tr>\n",
       "      <th>15</th>\n",
       "      <td>16</td>\n",
       "      <td>1.240460</td>\n",
       "    </tr>\n",
       "    <tr>\n",
       "      <th>0</th>\n",
       "      <td>1</td>\n",
       "      <td>1.135642</td>\n",
       "    </tr>\n",
       "    <tr>\n",
       "      <th>7</th>\n",
       "      <td>8</td>\n",
       "      <td>1.101806</td>\n",
       "    </tr>\n",
       "    <tr>\n",
       "      <th>19</th>\n",
       "      <td>20</td>\n",
       "      <td>1.082814</td>\n",
       "    </tr>\n",
       "  </tbody>\n",
       "</table>\n",
       "</div>"
      ],
      "text/plain": [
       "    occ_code  sortonme\n",
       "16        17  1.489507\n",
       "15        16  1.240460\n",
       "0          1  1.135642\n",
       "7          8  1.101806\n",
       "19        20  1.082814"
      ]
     },
     "execution_count": 40,
     "metadata": {},
     "output_type": "execute_result"
    }
   ],
   "source": [
    "# most common terminal career - least barrier to entry\n",
    "# sales and office/admin\n",
    "get_ranked(np.sum(fitted.transmat_, axis=0), ascending=False).head(5)\n"
   ]
  },
  {
   "cell_type": "code",
   "execution_count": 42,
   "metadata": {
    "collapsed": false
   },
   "outputs": [
    {
     "data": {
      "text/html": [
       "<div>\n",
       "<table border=\"1\" class=\"dataframe\">\n",
       "  <thead>\n",
       "    <tr style=\"text-align: right;\">\n",
       "      <th></th>\n",
       "      <th>occ_code</th>\n",
       "      <th>sortonme</th>\n",
       "    </tr>\n",
       "  </thead>\n",
       "  <tbody>\n",
       "    <tr>\n",
       "      <th>18</th>\n",
       "      <td>19</td>\n",
       "      <td>0.000851</td>\n",
       "    </tr>\n",
       "    <tr>\n",
       "      <th>6</th>\n",
       "      <td>7</td>\n",
       "      <td>0.927340</td>\n",
       "    </tr>\n",
       "    <tr>\n",
       "      <th>19</th>\n",
       "      <td>20</td>\n",
       "      <td>0.928100</td>\n",
       "    </tr>\n",
       "    <tr>\n",
       "      <th>3</th>\n",
       "      <td>4</td>\n",
       "      <td>0.928677</td>\n",
       "    </tr>\n",
       "    <tr>\n",
       "      <th>17</th>\n",
       "      <td>18</td>\n",
       "      <td>0.936446</td>\n",
       "    </tr>\n",
       "  </tbody>\n",
       "</table>\n",
       "</div>"
      ],
      "text/plain": [
       "    occ_code  sortonme\n",
       "18        19  0.000851\n",
       "6          7  0.927340\n",
       "19        20  0.928100\n",
       "3          4  0.928677\n",
       "17        18  0.936446"
      ]
     },
     "execution_count": 42,
     "metadata": {},
     "output_type": "execute_result"
    }
   ],
   "source": [
    "# most noisy occupation\n",
    "# construction\n",
    "# peculiar behaviour in Fishing and Hunting, Forest and Logging discussed above\n",
    "get_ranked(fitted.emissionprob_.diagonal()).head(5)\n",
    "    "
   ]
  },
  {
   "cell_type": "code",
   "execution_count": 103,
   "metadata": {
    "collapsed": false
   },
   "outputs": [
    {
     "name": "stdout",
     "output_type": "stream",
     "text": [
      "proportion of mass along diagonal (noise) emission 1997:\n",
      "0.917636407355\n",
      "\n",
      "proportion of mass along diagonal (noise) emission 1979:\n",
      "0.751398632508\n",
      "\n",
      "proportion of mass along diagonal (rigidity) transition 1997:\n",
      "0.826695176984\n",
      "\n",
      "proportion of mass along diagonal (rigidity) transition 1979:\n",
      "0.887392846495\n"
     ]
    }
   ],
   "source": [
    "print 'proportion of mass along diagonal (noise) emission 1997:'\n",
    "print np.sum(fitted.emissionprob_.diagonal())/fitted.emissionprob_.shape[0]\n",
    "\n",
    "print '\\nproportion of mass along diagonal (noise) emission 1979:'\n",
    "print np.sum(fitted1979.emissionprob_.diagonal())/fitted1979.emissionprob_.shape[0]\n",
    "\n",
    "print '\\nproportion of mass along diagonal (rigidity) transition 1997:'\n",
    "print np.sum(fitted.transmat_.diagonal())/fitted.transmat_.shape[0]\n",
    "\n",
    "print '\\nproportion of mass along diagonal (rigidity) transition 1979:'\n",
    "print np.sum(fitted1979.transmat_.diagonal())/fitted1979.transmat_.shape[0]"
   ]
  },
  {
   "cell_type": "markdown",
   "metadata": {
    "collapsed": true
   },
   "source": [
    "* I.e. 1997 cohort exhibits less noise but also less rigidity."
   ]
  },
  {
   "cell_type": "code",
   "execution_count": null,
   "metadata": {
    "collapsed": true
   },
   "outputs": [],
   "source": []
  }
 ],
 "metadata": {
  "anaconda-cloud": {},
  "kernelspec": {
   "display_name": "Python [Root]",
   "language": "python",
   "name": "Python [Root]"
  },
  "language_info": {
   "codemirror_mode": {
    "name": "ipython",
    "version": 2
   },
   "file_extension": ".py",
   "mimetype": "text/x-python",
   "name": "python",
   "nbconvert_exporter": "python",
   "pygments_lexer": "ipython2",
   "version": "2.7.12"
  }
 },
 "nbformat": 4,
 "nbformat_minor": 0
}
